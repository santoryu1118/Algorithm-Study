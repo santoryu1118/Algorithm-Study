{
 "cells": [
  {
   "cell_type": "markdown",
   "source": [
    "DFS Depth First Search \r\n",
    "- 수직적 탐색\r\n",
    "- stack 사용 (LIFO)\r\n",
    "\r\n",
    "BFS Breath First Search \r\n",
    "- 수평적 탐색\r\n",
    "- queue 사용 (FIFO)\r\n",
    "\r\n"
   ],
   "metadata": {}
  },
  {
   "cell_type": "markdown",
   "source": [],
   "metadata": {}
  }
 ],
 "metadata": {
  "orig_nbformat": 4,
  "language_info": {
   "name": "python"
  }
 },
 "nbformat": 4,
 "nbformat_minor": 2
}