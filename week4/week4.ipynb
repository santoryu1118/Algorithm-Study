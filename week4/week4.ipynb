{
 "cells": [
  {
   "cell_type": "markdown",
   "source": [
    "## Dynamic Programming 동적 계획법\r\n",
    "\"한번 계산한 문제는 다시 계산하지 않는다\" <br>\r\n",
    "메모리 공간을 더 사용하여 연산 속도 증가 <br>\r\n",
    "계산된 값을 저장해 두는 메모리를 캐시(cache) 라고 함 <br>\r\n",
    "메모하는 것을 코드의 구현에서는 배열에 저장하는 것 : 메모이제이션(Memoization) <br>\r\n",
    "\r\n",
    "조건:\r\n",
    "1. Overlapping Subproblem : 겹치는 부분(작은) 문제\r\n",
    "2. Optimal Substructure : 최적 부분구조"
   ],
   "metadata": {}
  },
  {
   "cell_type": "code",
   "execution_count": null,
   "source": [
    "#(1) - 2748 피보나치 수 2\r\n",
    "\r\n",
    "N = int(input())\r\n",
    "cache = [0] * (N+1)\r\n",
    "\r\n",
    "def Fibonacci(n):\r\n",
    "    if n <= 1:\r\n",
    "        return n\r\n",
    "    if cache[n] == 0:\r\n",
    "        cache[n]= Fibonacci(n-1) + Fibonacci(n-2)\r\n",
    "    return cache[n]\r\n",
    "\r\n",
    "print(Fibonacci(N))"
   ],
   "outputs": [],
   "metadata": {}
  },
  {
   "cell_type": "code",
   "execution_count": null,
   "source": [
    "#(2) - 1904 01타일\r\n",
    "\r\n",
    "# N-2 꺼 뒤에 00 붙이고 N-1 꺼 뒤에 1 붙이면 됨\r\n",
    "\r\n",
    "# recursion으로 하면 메모리 초과 남...\r\n",
    "# cache = [0] * (N+1)\r\n",
    "# def tile(n):\r\n",
    "#     if n <= 3:\r\n",
    "#         return n \r\n",
    "#     if cache[n] == 0:\r\n",
    "#         cache[n] = (tile(n-1) + tile(n-2)) % 15746\r\n",
    "#     return cache[n]\r\n",
    "# print(tile(N))\r\n",
    "\r\n",
    "# 이렇게 하면 시간초과 남\r\n",
    "# cache = [1, 2]\r\n",
    "# for _ in range(N-2):\r\n",
    "#     cache[0], cache[1] = cache[1], sum(cache)\r\n",
    "\r\n",
    "N = int(input())\r\n",
    "\r\n",
    "cache = [1, 2]\r\n",
    "for i in range(2, N):\r\n",
    "    cache.append((cache[i-1] + cache[i-2]) % 15746)\r\n",
    "\r\n",
    "print(cache[N-1])"
   ],
   "outputs": [],
   "metadata": {}
  },
  {
   "cell_type": "code",
   "execution_count": null,
   "source": [
    "#(3) 9251 - LCS\r\n",
    "# e.g. LSC(ACAYKP, CAPCAK) = ACAK\r\n",
    "\r\n",
    "A = list(input())\r\n",
    "B = list(input())\r\n",
    "\r\n",
    "      #A\r\n",
    "#B\r\n",
    "board = [[0]*(len(A)+1) for _ in range(len(B)+1)]\r\n",
    "\r\n",
    "for i in range(1, len(B)+1):\r\n",
    "    for j in range(1, len(A)+1):\r\n",
    "        if B[i-1] == A[j-1]:\r\n",
    "            board[i][j] = board[i-1][j-1] +1\r\n",
    "        else:\r\n",
    "            board[i][j] = max(board[i-1][j], board[i][j-1])\r\n",
    "\r\n",
    "print(board[-1][-1])"
   ],
   "outputs": [],
   "metadata": {}
  },
  {
   "cell_type": "code",
   "execution_count": null,
   "source": [
    "# #(4) - 12865 평범한 배낭\r\n",
    "import sys\r\n",
    "item_count, max_weight = map(int, sys.stdin.readline().split())\r\n",
    "\r\n",
    "items_list = []\r\n",
    "for _ in range(item_count):\r\n",
    "    # (weight, value)\r\n",
    "    items_list.append(list(map(int, sys.stdin.readline().split())))\r\n",
    "\r\n",
    "board = [[0]*(max_weight+1) for _ in range(item_count+1)]\r\n",
    "\r\n",
    "for i in range(1, item_count+1):\r\n",
    "    weight, value = items_list[i-1]\r\n",
    "    for j in range(1, max_weight+1):\r\n",
    "        if j >= weight:\r\n",
    "            board[i][j] = max(board[i-1][j], value + board[i-1][j-weight])\r\n",
    "        else:\r\n",
    "            board[i][j] = board[i-1][j]\r\n",
    "\r\n",
    "# for row in board:\r\n",
    "#     print(row)\r\n",
    "print(board[-1][-1])"
   ],
   "outputs": [],
   "metadata": {}
  },
  {
   "cell_type": "code",
   "execution_count": null,
   "source": [],
   "outputs": [],
   "metadata": {}
  }
 ],
 "metadata": {
  "orig_nbformat": 4,
  "language_info": {
   "name": "python"
  }
 },
 "nbformat": 4,
 "nbformat_minor": 2
}