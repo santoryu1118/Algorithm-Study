{
 "cells": [
  {
   "cell_type": "markdown",
   "source": [
    "## Dynamic Programming 동적 계획법\r\n",
    "\"한번 계산한 문제는 다시 계산하지 않는다\"\r\n",
    "메모리 공간을 더 사용하여 연산 속도 증가\r\n",
    "계산된 값을 저장해 두는 메모리를 캐시(cache) 라고 함\r\n",
    "메모하는 것을 코드의 구현에서는 배열에 저장하는 것 : 메모이제이션(Memoization)\r\n",
    "\r\n",
    "조건:\r\n",
    "1. Overlapping Subproblem : 겹치는 부분(작은) 문제\r\n",
    "2. Optimal Substructure : 최적 부분구조"
   ],
   "metadata": {}
  },
  {
   "cell_type": "code",
   "execution_count": null,
   "source": [
    "#(1) - 2748 피보나치 수 2\r\n",
    "\r\n",
    "N = int(input())\r\n",
    "cache = [0] * (N+1)\r\n",
    "\r\n",
    "def Fibonacci(n):\r\n",
    "    if n <= 1:\r\n",
    "        return n\r\n",
    "    if cache[n] == 0:\r\n",
    "        cache[n]= Fibonacci(n-1) + Fibonacci(n-2)\r\n",
    "    return cache[n]\r\n",
    "\r\n",
    "print(Fibonacci(N))"
   ],
   "outputs": [],
   "metadata": {}
  },
  {
   "cell_type": "code",
   "execution_count": null,
   "source": [
    "#(2) - 1904 01타일\r\n",
    "\r\n",
    "# N-2 꺼 뒤에 00 붙이고 N-1 꺼 뒤에 1 붙이면 됨\r\n",
    "\r\n",
    "# recursion으로 하면 메모리 초과 남...\r\n",
    "# cache = [0] * (N+1)\r\n",
    "# def tile(n):\r\n",
    "#     if n <= 3:\r\n",
    "#         return n \r\n",
    "#     if cache[n] == 0:\r\n",
    "#         cache[n] = (tile(n-1) + tile(n-2)) % 15746\r\n",
    "#     return cache[n]\r\n",
    "# print(tile(N))\r\n",
    "\r\n",
    "# 이렇게 하면 시간초과 남\r\n",
    "# cache = [1, 2]\r\n",
    "# for _ in range(N-2):\r\n",
    "#     cache[0], cache[1] = cache[1], sum(cache)\r\n",
    "\r\n",
    "N = int(input())\r\n",
    "\r\n",
    "cache = [1, 2]\r\n",
    "for i in range(2, N):\r\n",
    "    cache.append((cache[i-1] + cache[i-2]) % 15746)\r\n",
    "\r\n",
    "print(cache[N-1])"
   ],
   "outputs": [],
   "metadata": {}
  },
  {
   "cell_type": "code",
   "execution_count": null,
   "source": [
    "#(3) 9251 - LCS\r\n",
    "# ACAYKP와 CAPCAK의 LCS는 ACAK\r\n",
    "\r\n",
    "A = list(input())\r\n",
    "B = list(input())\r\n",
    " "
   ],
   "outputs": [],
   "metadata": {}
  }
 ],
 "metadata": {
  "orig_nbformat": 4,
  "language_info": {
   "name": "python"
  }
 },
 "nbformat": 4,
 "nbformat_minor": 2
}