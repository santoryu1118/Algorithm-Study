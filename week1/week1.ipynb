{
 "cells": [
  {
   "cell_type": "code",
   "execution_count": null,
   "source": [
    "# (1)-2577 Hello World\r\n",
    "print(\"Hello World!\")"
   ],
   "outputs": [
    {
     "output_type": "stream",
     "name": "stdout",
     "text": [
      "Hello World!\n"
     ]
    }
   ],
   "metadata": {}
  },
  {
   "cell_type": "code",
   "execution_count": null,
   "source": [
    "# (2)-10869 사칙연산\r\n",
    "A, B = input().split()\r\n",
    "A = int(A)\r\n",
    "B = int(B)\r\n",
    "\r\n",
    "print(A+B, A-B, A*B, A//B, A%B, sep ='\\n')"
   ],
   "outputs": [],
   "metadata": {}
  },
  {
   "cell_type": "code",
   "execution_count": null,
   "source": [
    "# (3)-2588 곱셈\r\n",
    "A = int(input())\r\n",
    "B = input()\r\n",
    "b1 = int(B[2])\r\n",
    "b2 = int(B[1])\r\n",
    "b3 = int(B[0])\r\n",
    "\r\n",
    "B1 = A*b1\r\n",
    "B2 = A*b2\r\n",
    "B3 = A*b3\r\n",
    "\r\n",
    "print(B1)\r\n",
    "print(B2)\r\n",
    "print(B3)\r\n",
    "print(B1 + B2*10 + B3*100)"
   ],
   "outputs": [],
   "metadata": {}
  },
  {
   "cell_type": "code",
   "execution_count": null,
   "source": [
    "#(4)-9498 시험 성적\r\n",
    "import sys\r\n",
    "num = int(sys.stdin.readline())\r\n",
    "\r\n",
    "if num >= 90 and num <= 100: print('A')\r\n",
    "elif num >= 80: print('B')\r\n",
    "elif num >= 70: print('C')\r\n",
    "elif num >= 60: print('D')\r\n",
    "else: print('F')"
   ],
   "outputs": [
    {
     "output_type": "stream",
     "name": "stdout",
     "text": [
      "\n"
     ]
    }
   ],
   "metadata": {}
  },
  {
   "cell_type": "code",
   "execution_count": null,
   "source": [
    "#(5)-2753 윤년\r\n",
    "year = int(sys.stdin.readline())\r\n",
    "\r\n",
    "if (year%4 ==0 and year %100!= 0) or year%400 ==0:\r\n",
    "    print(1)\r\n",
    "else: print(0)"
   ],
   "outputs": [],
   "metadata": {}
  },
  {
   "cell_type": "code",
   "execution_count": null,
   "source": [
    "#(6)-1085 직사각형에서 탈출\r\n",
    "x,y, w,h = map(int, input().split())\r\n",
    "print(min(x,y,w-x,h-y))"
   ],
   "outputs": [
    {
     "output_type": "stream",
     "name": "stdout",
     "text": [
      "-2\n"
     ]
    }
   ],
   "metadata": {}
  },
  {
   "cell_type": "code",
   "execution_count": null,
   "source": [
    "#(7)-2739 구구단\r\n",
    "x = int(input())\r\n",
    "\r\n",
    "for i in range(9):\r\n",
    "    print(f'{x} * {i+1} = {x* (i+1)}')"
   ],
   "outputs": [],
   "metadata": {}
  },
  {
   "cell_type": "code",
   "execution_count": null,
   "source": [
    "#(8)-10950 A+B-3\r\n",
    "x = int(input()) \r\n",
    "\r\n",
    "for _ in range(x):\r\n",
    "    a,b = input().split()\r\n",
    "    print(int(a)+int(b))"
   ],
   "outputs": [],
   "metadata": {}
  },
  {
   "cell_type": "code",
   "execution_count": null,
   "source": [
    "#(9)-2438 별찍기 -1\r\n",
    "x = int(input())\r\n",
    "for i in range(x):\r\n",
    "    for j in range(i+1):\r\n",
    "        print('*', end='')\r\n",
    "    print()"
   ],
   "outputs": [
    {
     "output_type": "stream",
     "name": "stdout",
     "text": [
      "*\n",
      "**\n",
      "***\n",
      "****\n",
      "*****\n"
     ]
    }
   ],
   "metadata": {}
  },
  {
   "cell_type": "code",
   "execution_count": null,
   "source": [
    "#(10)-10871 x보다 작은 수\r\n",
    "N, x = map(int, input().split())\r\n",
    "# x = int(x)\r\n",
    "A = list(map(int, input().split()))\r\n",
    "for i in range(N):\r\n",
    "    if A[i] < x:\r\n",
    "        print(A[i], end=\" \")"
   ],
   "outputs": [],
   "metadata": {}
  },
  {
   "cell_type": "code",
   "execution_count": null,
   "source": [
    "#(11)-2562 최댓값\r\n",
    "x = []\r\n",
    "max_num =0\r\n",
    "max_index =0\r\n",
    "\r\n",
    "for i in range(9):\r\n",
    "    x.append(int(input()))\r\n",
    "    if x[i] > max_num:\r\n",
    "        max_num = x[i]\r\n",
    "        max_index = i\r\n",
    "\r\n",
    "print(max_num, max_index+1, sep='\\n')   \r\n",
    "\r\n",
    "# 제일 빠른 답\r\n",
    "# l=[int(input())for i in range(9)]\r\n",
    "# print(max(l),l.index(max(l))+1)"
   ],
   "outputs": [],
   "metadata": {}
  },
  {
   "cell_type": "code",
   "execution_count": null,
   "source": [
    "#(12)-8958 OX퀴즈\r\n",
    "for i in range(int(input())):\r\n",
    "    success = 0\r\n",
    "    total = 0\r\n",
    "    x = input()\r\n",
    "    for j in range(len(x)):\r\n",
    "        if(x[j]=='O'):\r\n",
    "            success+=1\r\n",
    "            total += success\r\n",
    "        else:\r\n",
    "            success =0\r\n",
    "    print(total)"
   ],
   "outputs": [],
   "metadata": {}
  },
  {
   "cell_type": "code",
   "execution_count": null,
   "source": [
    " #(13)-4344 평균은 넘겠지\r\n",
    "\r\n",
    "for _ in range(int(input())):\r\n",
    "    scoreboard = list(map(int, input().split()))\r\n",
    "    count = 0\r\n",
    "    avg = sum(scoreboard[1:])/scoreboard[0]\r\n",
    "    for score in scoreboard[1:]:\r\n",
    "        if score > avg: count +=1\r\n",
    "    print(f'{100*count/scoreboard[0]:.3f}%')"
   ],
   "outputs": [],
   "metadata": {}
  },
  {
   "cell_type": "code",
   "execution_count": null,
   "source": [
    "#(14)-2577 숫자의 개수\r\n",
    "A=int(input()) \r\n",
    "B=int(input()) \r\n",
    "C=int(input()) \r\n",
    "ABC = A*B*C\r\n",
    "ABC = str(ABC)\r\n",
    "lis = [0]*10\r\n",
    "for num in ABC:\r\n",
    "    lis[int(num)] += 1\r\n",
    "for num in lis:\r\n",
    "    print(num)"
   ],
   "outputs": [],
   "metadata": {}
  },
  {
   "cell_type": "code",
   "execution_count": null,
   "source": [
    "#(15)- 15596 정수 N개의 합\r\n",
    "def solve(a: list) -> int:\r\n",
    "    return sum(a)"
   ],
   "outputs": [],
   "metadata": {}
  },
  {
   "cell_type": "code",
   "execution_count": null,
   "source": [
    "#(16) - 11654 아스키 코드\r\n",
    "def ASCII(val):\r\n",
    "    print (ord(val))\r\n",
    "    #chr(숫자)로 하면 아스키 코드 반환\r\n",
    "    #ord(문자)\r\n",
    "\r\n",
    "if __name__== \"__main__\":\r\n",
    "    ASCII(input())"
   ],
   "outputs": [],
   "metadata": {}
  },
  {
   "cell_type": "code",
   "execution_count": null,
   "source": [
    "#(17) - 2675 문자열 반복\r\n",
    "\r\n",
    "for _ in range(int(input())):\r\n",
    "    N, string = input().split()\r\n",
    "    for char in string:\r\n",
    "        print(char* int(N), end='')\r\n",
    "    print()\r\n"
   ],
   "outputs": [],
   "metadata": {}
  },
  {
   "cell_type": "code",
   "execution_count": null,
   "source": [
    "#(18) - 1152 단어의 개수\r\n",
    "print(len(input().split()))"
   ],
   "outputs": [],
   "metadata": {}
  },
  {
   "cell_type": "code",
   "execution_count": null,
   "source": [
    "#(19)-2908 상수\r\n",
    "A, B = input().split()\r\n",
    "\r\n",
    "for i in range(len(A)-1, -1, -1):\r\n",
    "    if A[i] > B[i]: print(A[::-1]); break;\r\n",
    "    elif A[i]< B[i]: print(B[::-1]); break;\r\n",
    "    else: continue"
   ],
   "outputs": [],
   "metadata": {}
  },
  {
   "cell_type": "code",
   "execution_count": null,
   "source": [
    "#(20)- 2869 달팽이는 올라가고 싶다\r\n",
    "\r\n",
    "up, down, tree_height = map(int, input().split())\r\n",
    "\r\n",
    "# 원래 풀이방식\r\n",
    "# diff = up-down\r\n",
    "# current_height = down\r\n",
    "# while (current_height < tree_height):\r\n",
    "#     days +=1\r\n",
    "#     current_height += diff\r\n",
    "# # print(days)\r\n",
    "\r\n",
    "#두번쨰 풀이방식\r\n",
    "day = (tree_height-up)//(up-down)\r\n",
    "# if (tree_height-up)%(up-down)==0: print(day+1)\r\n",
    "# else: print(day+2)\r\n",
    "\r\n",
    "# 좀더 깔끔한 풀이방식\r\n",
    "print(day + 1 + ((tree_height-up)%(up-down)!=0))"
   ],
   "outputs": [],
   "metadata": {}
  },
  {
   "cell_type": "code",
   "execution_count": null,
   "source": [
    "#(21) -1987 소수찾기\r\n",
    "N = int(input())\r\n",
    "examples = list(map(int, input().split()))\r\n",
    "\r\n",
    "bool_list = [True]* 1001\r\n",
    "for i in range(2, len(bool_list)):\r\n",
    "    if bool_list[i] == True:\r\n",
    "        for j in range(i*2, len(bool_list), i):\r\n",
    "            bool_list[j] = False\r\n",
    "bool_list[0] = False\r\n",
    "bool_list[1] = False\r\n",
    "# print([j for j in range(len(bool_list)) if bool_list[j]])\r\n",
    "sum = 0\r\n",
    "for num in examples:\r\n",
    "    sum += bool_list[num] \r\n",
    "print(sum)"
   ],
   "outputs": [],
   "metadata": {}
  },
  {
   "cell_type": "code",
   "execution_count": null,
   "source": [
    "#(22)- 9020 골드바흐의 추축\r\n",
    "def isprime(x):\r\n",
    "    # x의 최대 약수가 sqrt(x) 이하이므로 i = sqrt(n)까지 검사\r\n",
    "    # 알고리즘을 생각 못했다기 보단 수학적 지식이 있었으면 가능했을듯\r\n",
    "    for i in range(2, int(x**0.5)+1):\r\n",
    "        if x%i==0: return False\r\n",
    "    return True\r\n",
    "\r\n",
    "def find(N):\r\n",
    "    n = int(N/2)\r\n",
    "    for i in range(n,1,-1):\r\n",
    "        if not isprime(i): continue\r\n",
    "        else:\r\n",
    "            if isprime(N-i): print(i, N-i); return \r\n",
    "            else: continue \r\n",
    "\r\n",
    "count = int(input())\r\n",
    "for _ in range(count):\r\n",
    "    find(int(input()))"
   ],
   "outputs": [],
   "metadata": {}
  },
  {
   "cell_type": "code",
   "execution_count": null,
   "source": [
    "#(22)- 9020 골드바흐의 추축 에라토스테네스의 체\r\n",
    "def prime_list(n):\r\n",
    "    prime_bool = [True] *n\r\n",
    "    # return prime_bool\r\n",
    "    m = int(n**0.5)\r\n",
    "    for i in range(2, m+1):\r\n",
    "        if prime_bool[i] == True:\r\n",
    "            for j in range(i*2, n ,i):\r\n",
    "                prime_bool[j] = False\r\n",
    "    return [i for i in range(2, n) if prime_bool[i]== True]\r\n",
    "\r\n",
    "\r\n",
    "def find(n):\r\n",
    "    list = prime_list(n)\r\n",
    "    # print(list)\r\n",
    "    mid_index = max(i for i in range(len(list)-1,-1, -1) if list[i]<= n/2)\r\n",
    "    for i in range(mid_index,-1,-1):\r\n",
    "        for j in range(mid_index, len(list)):\r\n",
    "            if list[i] + list[j] == n:\r\n",
    "                print(list[i], list[j])\r\n",
    "                return\r\n",
    "            else : continue\r\n",
    "\r\n",
    "count = int(input())\r\n",
    "for _ in range(count):\r\n",
    "    find(int(input()))"
   ],
   "outputs": [],
   "metadata": {}
  },
  {
   "cell_type": "code",
   "execution_count": null,
   "source": [
    "#(23) - 1065 한수\r\n",
    "\r\n",
    "sum =0\r\n",
    "for i in range(1, int(input())+1):\r\n",
    "    if i< 100: sum +=1\r\n",
    "    else:\r\n",
    "        oneth_digit = i%10\r\n",
    "        tenth_digit = (i//10)%10\r\n",
    "        hundred_digit = i//100\r\n",
    "        if (hundred_digit- tenth_digit) == (tenth_digit-oneth_digit):\r\n",
    "            sum += 1\r\n",
    "print(sum)\r\n",
    "\r\n"
   ],
   "outputs": [],
   "metadata": {}
  },
  {
   "cell_type": "code",
   "execution_count": null,
   "source": [
    "#(24)- 2628 종이자르기\r\n",
    "\r\n",
    "x,y = map(int, input().split())\r\n",
    "xlist = [0,x]; ylist=[0,y]\r\n",
    "for _ in range(int(input())):\r\n",
    "    x_or_y, idx = map(int, input().split()) \r\n",
    "    if x_or_y == 0:\r\n",
    "        ylist.append(idx)\r\n",
    "    else:\r\n",
    "        xlist.append(idx)\r\n",
    "\r\n",
    "xlist.sort(); ylist.sort()\r\n",
    "biggest = 0\r\n",
    "for y_idx in range(len(ylist)):\r\n",
    "    if y_idx ==0:   #range를 range(len(ylist)-1)아니면 range(1, len(ylist))로 하면 if (y_idx ==0) 생략 가능\r\n",
    "        before_y_idx = y_idx\r\n",
    "    else:\r\n",
    "        y_diff = ylist[y_idx] - ylist[before_y_idx]\r\n",
    "        before_y_idx = y_idx\r\n",
    "        for x_idx in range(len(xlist)):\r\n",
    "            if x_idx ==0:\r\n",
    "                before_x_idx = x_idx\r\n",
    "            else:\r\n",
    "                x_diff = xlist[x_idx] - xlist[before_x_idx]\r\n",
    "                before_x_idx = x_idx\r\n",
    "                if x_diff * y_diff > biggest: \r\n",
    "                    biggest =  x_diff * y_diff\r\n",
    "\r\n",
    "print(biggest)"
   ],
   "outputs": [],
   "metadata": {}
  },
  {
   "cell_type": "code",
   "execution_count": null,
   "source": [
    "#(25)- 10872 팩토리얼\r\n",
    "\r\n",
    "def factorial(N):\r\n",
    "    if N ==0:\r\n",
    "        return 1\r\n",
    "    else:\r\n",
    "        return factorial(N-1)*N\r\n",
    "\r\n",
    "if __name__ == '__main__':\r\n",
    "    print(factorial(int(input())))"
   ],
   "outputs": [],
   "metadata": {}
  },
  {
   "cell_type": "code",
   "execution_count": 1,
   "source": [
    "#(26) - 1914 하노이 탑\r\n",
    "\r\n",
    "def hanoi(N, first=1, last=3):\r\n",
    "    count = 0\r\n",
    "    if N ==0:\r\n",
    "        return count\r\n",
    "    else:\r\n",
    "        count += hanoi(N-1, first, 6 -first-last)\r\n",
    "        print(first, last)\r\n",
    "        count += hanoi(N-1, 6-first-last, last)\r\n",
    "        return count+1\r\n",
    "\r\n",
    "N = int(input())\r\n",
    "print(2**(N)-1)\r\n",
    "if N<=20: hanoi(N)"
   ],
   "outputs": [
    {
     "output_type": "stream",
     "name": "stdout",
     "text": [
      "7\n",
      "1 3\n",
      "1 2\n",
      "3 2\n",
      "1 3\n",
      "2 1\n",
      "2 3\n",
      "1 3\n"
     ]
    }
   ],
   "metadata": {}
  },
  {
   "cell_type": "code",
   "execution_count": null,
   "source": [
    "#(28) - 1074 Z\r\n",
    "def zflip(N, y, x): \r\n",
    "    idx_change = 2**(N-1)\r\n",
    "    yval_change = 2**(2*N-1)\r\n",
    "    xval_change = 2**(2*N-2)\r\n",
    "\r\n",
    "    if x<=1 and y<=1: \r\n",
    "        return x+2*y\r\n",
    "    if x<2**(N-1) and y<2**(N-1):\r\n",
    "        return zflip(N -1, y, x)\r\n",
    "    elif x< 2**(N-1) and y>= 2**(N-1):\r\n",
    "        return zflip(N-1, y-idx_change, x) + yval_change\r\n",
    "    elif x>= 2**(N-1) and y< 2**(N-1):\r\n",
    "        return zflip(N-1, y, x-idx_change) + xval_change\r\n",
    "    else:\r\n",
    "        return zflip(N-1, y-idx_change, x-idx_change) + yval_change + xval_change\r\n",
    "\r\n",
    "N = 4\r\n",
    "for i in range(2**N):\r\n",
    "    for j in range(2**N):\r\n",
    "        print(f'{zflip(N, i, j):3}', end=' ')\r\n",
    "    print()\r\n",
    "\r\n",
    "# 백준 답변 중 한개\r\n",
    "# def f(n,x,y):\r\n",
    "#     if n==0:return 0\r\n",
    "#     d=pow(2,n-1)\r\n",
    "#     s= d*d*((x//d)*2+y//d)\r\n",
    "#     return s+f(n-1,x%d,y%d)"
   ],
   "outputs": [],
   "metadata": {}
  },
  {
   "cell_type": "code",
   "execution_count": null,
   "source": [
    "# 람다 lambda 의 각종 기능들\r\n",
    "a = [1,2,3,4]\r\n",
    "b = list(filter(lambda x : x>2, a))\r\n",
    "print(b)\r\n",
    "\r\n",
    "square = lambda x: x**2\r\n",
    "c  = list(map(square, a))\r\n",
    "print(c)\r\n",
    "\r\n",
    "a = (lambda x,y: x + y)\r\n",
    "print(a(10,20))\r\n",
    "\r\n",
    "# (32) - 단어 정렬\r\n",
    "# words = ['but', 'i', 'wont', 'hesitate', 'no', 'more', 'no', 'more', 'it', 'no','cannot', 'wait', 'im' , 'yours']\r\n",
    "words =[]\r\n",
    "for _ in range(int(input())):\r\n",
    "    words.append(input())\r\n",
    "words = set(words)\r\n",
    "words = sorted(words, key=lambda x : (len(x), x))\r\n",
    "print(words)\r\n"
   ],
   "outputs": [],
   "metadata": {}
  },
  {
   "cell_type": "code",
   "execution_count": 2,
   "source": [
    "#(33) - 2309 일곱 난쟁이\r\n",
    "\r\n",
    "def count100(height_list):\r\n",
    "    if sum(seven_dwarfs) == 100 and len(seven_dwarfs) ==7 :\r\n",
    "        for dwarf in sorted(seven_dwarfs):\r\n",
    "            print(dwarf)\r\n",
    "        return True\r\n",
    "    elif sum(seven_dwarfs) > 100 or len(seven_dwarfs) >7:\r\n",
    "        return False\r\n",
    "        \r\n",
    "    for i, dwarf_height in enumerate(height_list):\r\n",
    "        seven_dwarfs.append(dwarf_height)\r\n",
    "        if count100(height_list[i+1:]):\r\n",
    "            return True  \r\n",
    "        else:\r\n",
    "            seven_dwarfs.pop()\r\n",
    "    return False \r\n",
    "\r\n",
    "seven_dwarfs = [] \r\n",
    "height_list = [20,7,23,19,10,15,25,8,13]\r\n",
    "count100(height_list)"
   ],
   "outputs": [
    {
     "output_type": "stream",
     "name": "stdout",
     "text": [
      "7\n",
      "8\n",
      "10\n",
      "13\n",
      "19\n",
      "20\n",
      "23\n"
     ]
    },
    {
     "output_type": "execute_result",
     "data": {
      "text/plain": [
       "True"
      ]
     },
     "metadata": {},
     "execution_count": 2
    }
   ],
   "metadata": {}
  },
  {
   "cell_type": "code",
   "execution_count": null,
   "source": [
    "#(33) - 2309 일곱 난쟁이 \r\n",
    "# 비슷한데 height_list[i+1:] 대신 visit bool_list 만들어서 if visit[i]==0 이런식\r\n",
    "# 내꺼는 seven_dwarfs.append() .pop() \r\n",
    "# 이거는 seven_dwarfs[depth] = data[i]\r\n",
    "\r\n",
    "def perm(depth):\r\n",
    "    #global arr->not needed to use brr instead of arr at line17\r\n",
    "    if depth==C:\r\n",
    "        if sum(arr)==100:\r\n",
    "            for i in sorted(arr):\r\n",
    "                print(i)\r\n",
    "            return True\r\n",
    "        else:\r\n",
    "            return False\r\n",
    "    \r\n",
    "    for i in range(N):\r\n",
    "        if not visit[i]:\r\n",
    "            visit[i]=1\r\n",
    "            arr[depth]=data[i]\r\n",
    "            if perm(depth+1)==True:\r\n",
    "                return True\r\n",
    "            visit[i]= True\r\n",
    "    return False\r\n",
    "\r\n",
    "N=9\r\n",
    "C=7\r\n",
    "data=[20,7,23,19,10,15,25,8,13]\r\n",
    "visit=[0]*N\r\n",
    "arr=[0]*C\r\n",
    "\r\n",
    "perm(0)\r\n"
   ],
   "outputs": [],
   "metadata": {}
  },
  {
   "cell_type": "code",
   "execution_count": null,
   "source": [
    "# #(34) - 10819 차이를 최대로\r\n",
    "# # |A[0] - A[1]| + |A[1] - A[2]| + ... + |A[N-2] - A[N-1]|\r\n",
    "\r\n",
    "N = int(input())\r\n",
    "num = list(map(int, input().split()))\r\n",
    "# N = 6\r\n",
    "# num = [20, 1, 15, 8, 4, 10]\r\n",
    "temp_num = []\r\n",
    "visit = [False] * N\r\n",
    "ans_sheet = []\r\n",
    "\r\n",
    "def max_diff(depth):\r\n",
    "    if depth == N:\r\n",
    "        ans_sheet.append(sum(abs(temp_num[i]-temp_num[i+1]) for i in range(N-1)))\r\n",
    "        return\r\n",
    "\r\n",
    "    for i in range(N):\r\n",
    "        if not visit[i] :\r\n",
    "            visit[i] = True\r\n",
    "            temp_num.append(num[i])\r\n",
    "            max_diff(depth +1)\r\n",
    "            temp_num.pop()\r\n",
    "            visit[i] = False\r\n",
    "max_diff(0)\r\n",
    "print(max(ans_sheet))"
   ],
   "outputs": [],
   "metadata": {}
  },
  {
   "cell_type": "code",
   "execution_count": null,
   "source": [
    "# (35)- 10971 외판원 순회 2 Travelling Salesman Problem\r\n",
    "\r\n",
    "N = 4\r\n",
    "cost= [   #0<->2 route는 존재 x\r\n",
    "    [0, 10, 15, 20],\r\n",
    "    [5, 0, 9, 10],\r\n",
    "    [6, 13, 0, 12],\r\n",
    "    [8, 8, 9, 0]\r\n",
    "    ]\r\n",
    "\r\n",
    "from math import inf\r\n",
    "\r\n",
    "# N = int(input())\r\n",
    "# cost = []\r\n",
    "# for _ in range(N):\r\n",
    "#     cost.append(list(map(int, input().split())))\r\n",
    "\r\n",
    "# 사용할 변수명 지정\r\n",
    "city = list(i for i in range(N))\r\n",
    "temp_route = []\r\n",
    "temp_route_bool = [False]*N\r\n",
    "min_answer = inf\r\n",
    "\r\n",
    "# 도로가 없으면 false return 하고 되는 길이면 총값 return\r\n",
    "def routecost(route):\r\n",
    "    sum = 0\r\n",
    "    for i in range(N):\r\n",
    "        j = i+1\r\n",
    "        if i == N-1: # 이건 다시 시작점으로 돌아와야되니깐\r\n",
    "            j = 0\r\n",
    "        amount = cost[route[i]][route[j]]\r\n",
    "        if amount == 0 and route[i] != route[j]:\r\n",
    "            return 0\r\n",
    "        sum += amount\r\n",
    "    return sum\r\n",
    "\r\n",
    "def makelist(depth):\r\n",
    "    if depth == N:\r\n",
    "        newcost = routecost(temp_route)\r\n",
    "        global min_answer\r\n",
    "        if min_answer > newcost and newcost!=0:\r\n",
    "            min_answer = newcost\r\n",
    "        return \r\n",
    "\r\n",
    "    for i in range(N):\r\n",
    "        if temp_route_bool[i]:\r\n",
    "            continue\r\n",
    "        temp_route.append(city[i])\r\n",
    "        temp_route_bool[i] = True\r\n",
    "        makelist(depth+1)\r\n",
    "        temp_route.pop()\r\n",
    "        temp_route_bool[i] = False\r\n",
    "\r\n",
    "makelist(0)\r\n",
    "print(min_answer)"
   ],
   "outputs": [],
   "metadata": {}
  },
  {
   "cell_type": "code",
   "execution_count": 1,
   "source": [
    "#1100 - 더하기 사이클\r\n",
    "\r\n",
    "N = int(input())\r\n",
    "newN=N\r\n",
    "count = 0\r\n",
    "while True:\r\n",
    "    # newN이 한자리 수이면 newN = newN *11 됨\r\n",
    "    newN = (newN%10)*10 + (newN//10 + newN%10)%10\r\n",
    "    count +=1 \r\n",
    "    if newN == N:\r\n",
    "        break\r\n",
    "print(count)"
   ],
   "outputs": [
    {
     "output_type": "stream",
     "name": "stdout",
     "text": [
      "60\n"
     ]
    }
   ],
   "metadata": {}
  },
  {
   "cell_type": "code",
   "execution_count": null,
   "source": [
    " # 9095 - 1,2,3 더하기\r\n",
    "def coffee(N):\r\n",
    "    if N == 1:\r\n",
    "        return 1\r\n",
    "    if N == 2:\r\n",
    "        return 2\r\n",
    "    if N == 3:\r\n",
    "        return 4\r\n",
    "    return coffee(N-1) + coffee(N-2) + coffee(N-3)\r\n",
    "\r\n",
    "for _ in range(int(input())):\r\n",
    "    print(coffee(int(input())))\r\n"
   ],
   "outputs": [],
   "metadata": {}
  },
  {
   "cell_type": "code",
   "execution_count": null,
   "source": [
    "# 2503 - 숫자 야구\r\n",
    "\r\n",
    "import sys\r\n",
    "from itertools import permutations\r\n",
    "input= sys.stdin.readline\r\n",
    "\r\n",
    "a = [i for i in range(1, 10)]\r\n",
    "numbers = list(permutations(a,3))\r\n",
    "\r\n",
    "for _ in range(int(input())):\r\n",
    "    guess, strike, ball = map(int, input().split())\r\n",
    "\r\n",
    "    # str을 해줘야 guess[0] 이렇게 indexing 해줄 수 있고, \r\n",
    "    # list로 해줘야 guess[i] = int(guess[i]) 이게 됨 아니면 \"str object does not support item assignment\" 이거뜸\r\n",
    "    guess = list(str(guess))\r\n",
    "    remove_i = 0\r\n",
    "\r\n",
    "    for comb in range(len(numbers)):\r\n",
    "        n_strike = 0\r\n",
    "        n_ball = 0\r\n",
    "        # 이거는 loop돌면서 remove해주기 때문에 comb index 맞춰 주기 위해 \r\n",
    "        comb -= remove_i\r\n",
    "\r\n",
    "        for i in range(3):\r\n",
    "            guess[i] = int(guess[i])\r\n",
    "            # strike : 숫자랑 위치 다 같을 시\r\n",
    "            if guess[i] == numbers[comb][i]:\r\n",
    "                n_strike += 1\r\n",
    "            # ball : 숫자는 같은데 위치 다를 시\r\n",
    "            elif guess[i] in numbers[comb]:\r\n",
    "                n_ball += 1\r\n",
    "        \r\n",
    "        # strike 랑 ball 수가 다르면 다 삭제 해주는 거임. 완전 탐색 해주는거임\r\n",
    "        if not(n_strike == strike and n_ball == ball):\r\n",
    "            numbers.remove(numbers[comb])\r\n",
    "            remove_i +=1\r\n",
    "\r\n",
    "print(len(numbers))"
   ],
   "outputs": [],
   "metadata": {}
  }
 ],
 "metadata": {
  "orig_nbformat": 4,
  "language_info": {
   "name": "python",
   "version": "3.7.9",
   "mimetype": "text/x-python",
   "codemirror_mode": {
    "name": "ipython",
    "version": 3
   },
   "pygments_lexer": "ipython3",
   "nbconvert_exporter": "python",
   "file_extension": ".py"
  },
  "kernelspec": {
   "name": "python3",
   "display_name": "Python 3.7.9 64-bit ('base': conda)"
  },
  "interpreter": {
   "hash": "314adc2f53bdd119baa0596637e2d6d5c0c0fa38651ab7be9496e41c218c08cc"
  }
 },
 "nbformat": 4,
 "nbformat_minor": 2
}